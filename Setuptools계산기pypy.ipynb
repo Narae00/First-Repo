{
  "nbformat": 4,
  "nbformat_minor": 0,
  "metadata": {
    "colab": {
      "provenance": [],
      "authorship_tag": "ABX9TyOXXT4fl2OAr6WTOUVQZRFW",
      "include_colab_link": true
    },
    "kernelspec": {
      "name": "python3",
      "display_name": "Python 3"
    },
    "language_info": {
      "name": "python"
    }
  },
  "cells": [
    {
      "cell_type": "markdown",
      "metadata": {
        "id": "view-in-github",
        "colab_type": "text"
      },
      "source": [
        "<a href=\"https://colab.research.google.com/github/Narae00/First-Repo/blob/main/Setuptools%EA%B3%84%EC%82%B0%EA%B8%B0pypy.ipynb\" target=\"_parent\"><img src=\"https://colab.research.google.com/assets/colab-badge.svg\" alt=\"Open In Colab\"/></a>"
      ]
    },
    {
      "cell_type": "code",
      "execution_count": null,
      "metadata": {
        "id": "oXESNnvNNP69",
        "colab": {
          "base_uri": "https://localhost:8080/"
        },
        "outputId": "d457d8fc-81d7-48d2-a9c8-73f07c56d934"
      },
      "outputs": [
        {
          "output_type": "stream",
          "name": "stdout",
          "text": [
            "Overwriting mycalc/calculator.py\n"
          ]
        }
      ],
      "source": [
        "%%writefile mycalc/calculator.py\n",
        "#calculator.py\n",
        "def add (x,y):\n",
        "  return x + y\n",
        "\n",
        "\n",
        "def subtract (x,y):\n",
        "  return x - y"
      ]
    },
    {
      "cell_type": "code",
      "source": [
        "%%writefile setup.py\n",
        "import setuptools\n",
        "\n",
        "setuptools.setup(\n",
        "    name = 'kimminseo1234',\n",
        "    version='0.01',\n",
        "    description = 'nice calculator',\n",
        "    author = 'minseo',\n",
        "    url = 'https://github.com/Narae00',\n",
        "    download_url = 'https://github.com/Narae00',\n",
        "    packages = ['mycalc'],\n",
        "    classifiers = [\n",
        "        \"Programming Language :: Python :: 3\",\n",
        "    ]\n",
        ")"
      ],
      "metadata": {
        "id": "F-80H1DtNWzg",
        "colab": {
          "base_uri": "https://localhost:8080/"
        },
        "outputId": "80c59a2c-2df1-4819-97fe-c9622b1ae143"
      },
      "execution_count": 14,
      "outputs": [
        {
          "output_type": "stream",
          "name": "stdout",
          "text": [
            "Overwriting setup.py\n"
          ]
        }
      ]
    },
    {
      "cell_type": "code",
      "source": [
        "!pip install wheel\n",
        "#package installer를 만드는 것(pip)\n"
      ],
      "metadata": {
        "id": "0jhmMPfUN63q",
        "colab": {
          "base_uri": "https://localhost:8080/"
        },
        "outputId": "90d9f418-5e3a-4572-941a-4333918c9f9b"
      },
      "execution_count": 17,
      "outputs": [
        {
          "output_type": "stream",
          "name": "stdout",
          "text": [
            "Looking in indexes: https://pypi.org/simple, https://us-python.pkg.dev/colab-wheels/public/simple/\n",
            "Requirement already satisfied: wheel in /usr/local/lib/python3.9/dist-packages (0.40.0)\n"
          ]
        }
      ]
    },
    {
      "cell_type": "code",
      "source": [
        "!pip install twine\n",
        "#만들어진 installer를 pypi에 게시(업로드)하는 것"
      ],
      "metadata": {
        "id": "tshQqe-8OFqE"
      },
      "execution_count": null,
      "outputs": []
    },
    {
      "cell_type": "code",
      "source": [
        "!python setup.py bdist_wheel"
      ],
      "metadata": {
        "id": "h0KgdwBCVnur"
      },
      "execution_count": null,
      "outputs": []
    },
    {
      "cell_type": "code",
      "source": [
        "!twine upload -u Narae00 -p mins4899 dist/kimminseo1234-0.1-py3-none-any.whl"
      ],
      "metadata": {
        "id": "VdXiATuwYVDu",
        "colab": {
          "base_uri": "https://localhost:8080/"
        },
        "outputId": "234a561f-597a-45f1-e3a6-80a9d184aef9"
      },
      "execution_count": 18,
      "outputs": [
        {
          "output_type": "stream",
          "name": "stdout",
          "text": [
            "Uploading distributions to https://upload.pypi.org/legacy/\n",
            "Uploading kimminseo1234-0.1-py3-none-any.whl\n",
            "\u001b[2K\u001b[35m100%\u001b[0m \u001b[90m━━━━━━━━━━━━━━━━━━━━━━━━━━━━━━━━━━━━━━━━\u001b[0m \u001b[32m4.2/4.2 kB\u001b[0m • \u001b[33m00:00\u001b[0m • \u001b[31m?\u001b[0m\n",
            "\u001b[?25h\n",
            "\u001b[32mView at:\u001b[0m\n",
            "https://pypi.org/project/kimminseo1234/0.1/\n"
          ]
        }
      ]
    },
    {
      "cell_type": "code",
      "source": [
        "!pip install kimminseo1234==0.1"
      ],
      "metadata": {
        "colab": {
          "base_uri": "https://localhost:8080/",
          "height": 199
        },
        "id": "5PrqYWEabNJr",
        "outputId": "bcffb585-31b8-4386-b6f1-ab145e575184"
      },
      "execution_count": 19,
      "outputs": [
        {
          "output_type": "stream",
          "name": "stdout",
          "text": [
            "Looking in indexes: https://pypi.org/simple, https://us-python.pkg.dev/colab-wheels/public/simple/\n",
            "Collecting kimminseo1234==0.1\n",
            "  Downloading kimminseo1234-0.1-py3-none-any.whl (1.3 kB)\n",
            "Installing collected packages: kimminseo1234\n",
            "Successfully installed kimminseo1234-0.1\n"
          ]
        },
        {
          "output_type": "display_data",
          "data": {
            "application/vnd.colab-display-data+json": {
              "pip_warning": {
                "packages": [
                  "mycalc"
                ]
              }
            }
          },
          "metadata": {}
        }
      ]
    },
    {
      "cell_type": "code",
      "source": [
        "import mycalc\n",
        "from mycalc import calculator"
      ],
      "metadata": {
        "id": "gofSKhlvWGQ_"
      },
      "execution_count": null,
      "outputs": []
    },
    {
      "cell_type": "code",
      "source": [
        "additions = calculator.add(5,6)\n",
        "additions"
      ],
      "metadata": {
        "id": "PQDAg4yeWrfx",
        "colab": {
          "base_uri": "https://localhost:8080/"
        },
        "outputId": "47299749-f6a6-49a6-d8ca-864ff486408c"
      },
      "execution_count": 21,
      "outputs": [
        {
          "output_type": "execute_result",
          "data": {
            "text/plain": [
              "11"
            ]
          },
          "metadata": {},
          "execution_count": 21
        }
      ]
    }
  ]
}